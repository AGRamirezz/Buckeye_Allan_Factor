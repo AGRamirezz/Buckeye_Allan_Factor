{
 "cells": [
  {
   "cell_type": "code",
   "execution_count": 1,
   "metadata": {},
   "outputs": [],
   "source": [
    "import pandas as pd\n",
    "import numpy as np \n",
    "import matplotlib.pyplot as plt\n",
    "import math\n",
    "import os\n",
    "from statistics import mean,median,stdev\n",
    "from scipy import stats\n",
    "from scipy.io.wavfile import read\n",
    "from scipy import signal\n",
    "\n",
    "from datetime import datetime"
   ]
  },
  {
   "cell_type": "code",
   "execution_count": 2,
   "metadata": {},
   "outputs": [
    {
     "data": {
      "text/plain": [
       "(16000, array([  0,   0,   0, ..., -14, -17, -30], dtype=int16))"
      ]
     },
     "execution_count": 2,
     "metadata": {},
     "output_type": "execute_result"
    }
   ],
   "source": [
    "os.chdir('/Users/cogmech/Documents/Buckeye_AF/Data/audio')\n",
    "\n",
    "w1 = read('s0101a.wav')\n",
    "w1"
   ]
  },
  {
   "cell_type": "code",
   "execution_count": 3,
   "metadata": {},
   "outputs": [
    {
     "data": {
      "text/plain": [
       "9969854"
      ]
     },
     "execution_count": 3,
     "metadata": {},
     "output_type": "execute_result"
    }
   ],
   "source": [
    "len(w1[1])"
   ]
  },
  {
   "cell_type": "code",
   "execution_count": null,
   "metadata": {},
   "outputs": [],
   "source": []
  },
  {
   "cell_type": "code",
   "execution_count": 6,
   "metadata": {},
   "outputs": [
    {
     "data": {
      "text/plain": [
       "['s0101a.wav',\n",
       " 's0101b.wav',\n",
       " 's0102a.wav',\n",
       " 's0102b.wav',\n",
       " 's0103a.wav',\n",
       " 's0201a.wav',\n",
       " 's0201b.wav',\n",
       " 's0202a.wav',\n",
       " 's0202b.wav',\n",
       " 's0203a.wav',\n",
       " 's0203b.wav',\n",
       " 's0204a.wav',\n",
       " 's0204b.wav',\n",
       " 's0205a.wav',\n",
       " 's0205b.wav',\n",
       " 's0206a.wav',\n",
       " 's0301a.wav',\n",
       " 's0301b.wav',\n",
       " 's0302a.wav',\n",
       " 's0302b.wav',\n",
       " 's0303a.wav',\n",
       " 's0303b.wav',\n",
       " 's0304a.wav',\n",
       " 's0304b.wav',\n",
       " 's0305a.wav',\n",
       " 's0305b.wav',\n",
       " 's0306a.wav',\n",
       " 's0401a.wav',\n",
       " 's0401b.wav',\n",
       " 's0402a.wav',\n",
       " 's0402b.wav',\n",
       " 's0403a.wav',\n",
       " 's0403b.wav',\n",
       " 's0404a.wav',\n",
       " 's0501a.wav',\n",
       " 's0501b.wav',\n",
       " 's0502a.wav',\n",
       " 's0502b.wav',\n",
       " 's0503a.wav',\n",
       " 's0503b.wav',\n",
       " 's0504a.wav',\n",
       " 's0601a.wav',\n",
       " 's0601b.wav',\n",
       " 's0602a.wav',\n",
       " 's0602b.wav',\n",
       " 's0603a.wav',\n",
       " 's0701a.wav',\n",
       " 's0701b.wav',\n",
       " 's0702a.wav',\n",
       " 's0702b.wav',\n",
       " 's0703a.wav',\n",
       " 's0703b.wav',\n",
       " 's0704a.wav',\n",
       " 's0801a.wav',\n",
       " 's0801b.wav',\n",
       " 's0802a.wav',\n",
       " 's0802b.wav',\n",
       " 's0803a.wav',\n",
       " 's0803b.wav',\n",
       " 's0804a.wav',\n",
       " 's0901a.wav',\n",
       " 's0901b.wav',\n",
       " 's0902a.wav',\n",
       " 's0902b.wav',\n",
       " 's0903a.wav',\n",
       " 's0903b.wav',\n",
       " 's1001a.wav',\n",
       " 's1001b.wav',\n",
       " 's1002a.wav',\n",
       " 's1002b.wav',\n",
       " 's1003b.wav',\n",
       " 's1004a.wav',\n",
       " 's1101a.wav',\n",
       " 's1101b.wav',\n",
       " 's1102a.wav',\n",
       " 's1102b.wav',\n",
       " 's1103a.wav',\n",
       " 's1103b.wav',\n",
       " 's1104a.wav',\n",
       " 's1104b.wav',\n",
       " 's1201a.wav',\n",
       " 's1201b.wav',\n",
       " 's1202a.wav',\n",
       " 's1202b.wav',\n",
       " 's1203a.wav',\n",
       " 's1203b.wav',\n",
       " 's1204a.wav',\n",
       " 's1301a.wav',\n",
       " 's1301b.wav',\n",
       " 's1302a.wav',\n",
       " 's1302b.wav',\n",
       " 's1303a.wav',\n",
       " 's1303b.wav',\n",
       " 's1304a.wav',\n",
       " 's1401a.wav',\n",
       " 's1401b.wav',\n",
       " 's1402a.wav',\n",
       " 's1402b.wav',\n",
       " 's1403a.wav',\n",
       " 's1403b.wav',\n",
       " 's1501a.wav',\n",
       " 's1501b.wav',\n",
       " 's1502a.wav',\n",
       " 's1502b.wav',\n",
       " 's1503a.wav',\n",
       " 's1601a.wav',\n",
       " 's1601b.wav',\n",
       " 's1602a.wav',\n",
       " 's1602b.wav',\n",
       " 's1603a.wav',\n",
       " 's1603b.wav',\n",
       " 's1604a.wav',\n",
       " 's1701a.wav',\n",
       " 's1701b.wav',\n",
       " 's1702a.wav',\n",
       " 's1702b.wav',\n",
       " 's1703a.wav',\n",
       " 's1703b.wav',\n",
       " 's1801a.wav',\n",
       " 's1801b.wav',\n",
       " 's1802a.wav',\n",
       " 's1802b.wav',\n",
       " 's1803a.wav',\n",
       " 's1803b.wav',\n",
       " 's1804a.wav',\n",
       " 's1901a.wav',\n",
       " 's1901b.wav',\n",
       " 's1902a.wav',\n",
       " 's1902b.wav',\n",
       " 's1903a.wav',\n",
       " 's1903b.wav',\n",
       " 's1904a.wav',\n",
       " 's1904b.wav',\n",
       " 's2001a.wav',\n",
       " 's2001b.wav',\n",
       " 's2002a.wav',\n",
       " 's2002b.wav',\n",
       " 's2003a.wav',\n",
       " 's2003b.wav',\n",
       " 's2004a.wav',\n",
       " 's2101a.wav',\n",
       " 's2101b.wav',\n",
       " 's2102a.wav',\n",
       " 's2102b.wav',\n",
       " 's2201a.wav',\n",
       " 's2201b.wav',\n",
       " 's2202a.wav',\n",
       " 's2202b.wav',\n",
       " 's2203a.wav',\n",
       " 's2203b.wav',\n",
       " 's2301a.wav',\n",
       " 's2301b.wav',\n",
       " 's2302a.wav',\n",
       " 's2302b.wav',\n",
       " 's2303a.wav',\n",
       " 's2303b.wav',\n",
       " 's2401a.wav',\n",
       " 's2401b.wav',\n",
       " 's2402a.wav',\n",
       " 's2402b.wav',\n",
       " 's2403a.wav',\n",
       " 's2403b.wav',\n",
       " 's2501a.wav',\n",
       " 's2501b.wav',\n",
       " 's2502a.wav',\n",
       " 's2502b.wav',\n",
       " 's2503a.wav',\n",
       " 's2503b.wav',\n",
       " 's2601a.wav',\n",
       " 's2601b.wav',\n",
       " 's2602a.wav',\n",
       " 's2602b.wav',\n",
       " 's2603a.wav',\n",
       " 's2603b.wav',\n",
       " 's2701a.wav',\n",
       " 's2701b.wav',\n",
       " 's2702a.wav',\n",
       " 's2702b.wav',\n",
       " 's2703a.wav',\n",
       " 's2703b.wav',\n",
       " 's2704a.wav',\n",
       " 's2801a.wav',\n",
       " 's2801b.wav',\n",
       " 's2802a.wav',\n",
       " 's2802b.wav',\n",
       " 's2803a.wav',\n",
       " 's2901a.wav',\n",
       " 's2901b.wav',\n",
       " 's2902a.wav',\n",
       " 's2902b.wav',\n",
       " 's2903a.wav',\n",
       " 's2903b.wav',\n",
       " 's3001a.wav',\n",
       " 's3001b.wav',\n",
       " 's3002a.wav',\n",
       " 's3002b.wav',\n",
       " 's3003a.wav',\n",
       " 's3101a.wav',\n",
       " 's3101b.wav',\n",
       " 's3102a.wav',\n",
       " 's3102b.wav',\n",
       " 's3103a.wav',\n",
       " 's3201a.wav',\n",
       " 's3201b.wav',\n",
       " 's3202a.wav',\n",
       " 's3202b.wav',\n",
       " 's3301a.wav',\n",
       " 's3301b.wav',\n",
       " 's3302a.wav',\n",
       " 's3302b.wav',\n",
       " 's3303b.wav',\n",
       " 's3401a.wav',\n",
       " 's3401b.wav',\n",
       " 's3402a.wav',\n",
       " 's3402b.wav',\n",
       " 's3403a.wav',\n",
       " 's3403b.wav',\n",
       " 's3501a.wav',\n",
       " 's3501b.wav',\n",
       " 's3502a.wav',\n",
       " 's3502b.wav',\n",
       " 's3503a.wav',\n",
       " 's3503b.wav',\n",
       " 's3601a.wav',\n",
       " 's3601b.wav',\n",
       " 's3602a.wav',\n",
       " 's3602b.wav',\n",
       " 's3603a.wav',\n",
       " 's3603b.wav',\n",
       " 's3701a.wav',\n",
       " 's3701b.wav',\n",
       " 's3702a.wav',\n",
       " 's3702b.wav',\n",
       " 's3703a.wav',\n",
       " 's3703b.wav',\n",
       " 's3801a.wav',\n",
       " 's3801b.wav',\n",
       " 's3802a.wav',\n",
       " 's3802b.wav',\n",
       " 's3803a.wav',\n",
       " 's3901a.wav',\n",
       " 's3901b.wav',\n",
       " 's3902a.wav',\n",
       " 's3902b.wav',\n",
       " 's3903a.wav',\n",
       " 's3903b.wav',\n",
       " 's4001a.wav',\n",
       " 's4001b.wav',\n",
       " 's4002a.wav',\n",
       " 's4002b.wav',\n",
       " 's4003a.wav',\n",
       " 's4003b.wav',\n",
       " 's4004a.wav']"
      ]
     },
     "execution_count": 6,
     "metadata": {},
     "output_type": "execute_result"
    }
   ],
   "source": [
    "files = [item for item in os.listdir(os.getcwd())]\n",
    "files"
   ]
  },
  {
   "cell_type": "code",
   "execution_count": 7,
   "metadata": {},
   "outputs": [],
   "source": [
    "#read wav files in loop, resample and save resampled files into array list \n",
    "audio = []\n",
    "new_sr = 5000\n",
    "\n",
    "for i in range(len(files)):\n",
    "    dateTimeObj = datetime.now()\n",
    "    #print(i,dateTimeObj)\n",
    "    wf = read(files[i])\n",
    "    t = len(wf[1])/wf[0] #num samples/sample rate\n",
    "    \n",
    "    w = signal.resample(wf[1], int(new_sr*t))\n",
    "    audio.append(w)\n",
    "    "
   ]
  },
  {
   "cell_type": "code",
   "execution_count": 8,
   "metadata": {},
   "outputs": [
    {
     "data": {
      "text/plain": [
       "[0,\n",
       " 4,\n",
       " 15,\n",
       " 26,\n",
       " 33,\n",
       " 40,\n",
       " 45,\n",
       " 52,\n",
       " 59,\n",
       " 65,\n",
       " 71,\n",
       " 79,\n",
       " 86,\n",
       " 93,\n",
       " 99,\n",
       " 104,\n",
       " 111,\n",
       " 117,\n",
       " 124,\n",
       " 132,\n",
       " 139,\n",
       " 143,\n",
       " 149,\n",
       " 155,\n",
       " 161,\n",
       " 167,\n",
       " 173,\n",
       " 180,\n",
       " 185,\n",
       " 191,\n",
       " 196,\n",
       " 201,\n",
       " 205,\n",
       " 210,\n",
       " 216,\n",
       " 222,\n",
       " 228,\n",
       " 234,\n",
       " 239,\n",
       " 245,\n",
       " 253]"
      ]
     },
     "execution_count": 8,
     "metadata": {},
     "output_type": "execute_result"
    }
   ],
   "source": [
    "files = [item[0:3] for item in os.listdir(os.getcwd())]\n",
    "indexes = [i for i in range(len(files)-1) if files[i] != files[i+1] ]\n",
    "indexes.insert(0,0)\n",
    "indexes.append(len(files))\n",
    "indexes\n"
   ]
  },
  {
   "cell_type": "code",
   "execution_count": 9,
   "metadata": {},
   "outputs": [],
   "source": [
    "audio_parts = []\n",
    "for i in range(len(indexes)-1):\n",
    "    \n",
    "    if i == 0:\n",
    "        part = audio[indexes[i]:indexes[i+1]+1]\n",
    "    elif i > 0:\n",
    "        part = audio[indexes[i]+1:indexes[i+1]+1] \n",
    "    #print(i)\n",
    "        \n",
    "    audio_parts.append(np.concatenate(part))"
   ]
  },
  {
   "cell_type": "code",
   "execution_count": 10,
   "metadata": {},
   "outputs": [
    {
     "data": {
      "text/plain": [
       "40"
      ]
     },
     "execution_count": 10,
     "metadata": {},
     "output_type": "execute_result"
    }
   ],
   "source": [
    "audio_partchunks = []\n",
    "\n",
    "chunk_samples = 240*new_sr\n",
    "\n",
    "for i in range(len(audio_parts)):\n",
    "    current = audio_parts[i]\n",
    "    chunks = []\n",
    "    for j in range(len(current)):\n",
    "        if j > 0 and j % chunk_samples == 0:\n",
    "            chunk = current[j-chunk_samples:j]\n",
    "            chunks.append(chunk)\n",
    "            \n",
    "    audio_partchunks.append(chunks)\n",
    "        \n",
    "len(audio_partchunks)  "
   ]
  },
  {
   "cell_type": "code",
   "execution_count": 11,
   "metadata": {},
   "outputs": [],
   "source": [
    "chunk_samples = 240*new_sr\n",
    "\n",
    "chunks = []\n",
    "for i in range(len(audio_parts)):\n",
    "    current = audio_parts[i]\n",
    "    \n",
    "    for j in range(len(current)):\n",
    "        if j > 0 and j % chunk_samples == 0:\n",
    "            chunk = current[j-chunk_samples:j]\n",
    "            chunks.append(chunk)"
   ]
  },
  {
   "cell_type": "code",
   "execution_count": 18,
   "metadata": {},
   "outputs": [
    {
     "data": {
      "text/plain": [
       "543"
      ]
     },
     "execution_count": 18,
     "metadata": {},
     "output_type": "execute_result"
    }
   ],
   "source": [
    "#for i in range(len(audio_partchunks)):\n",
    "#    print(len(audio_partchunks[i]))\n",
    "    \n",
    "#need to delete audio_partchunks[11][9]\n",
    "\n",
    "#audio_partchunks[31] = audio_partchunks[31][0:9]\n",
    "#len(audio_partchunks[11])\n",
    "chunks = []\n",
    "for i in range(len(audio_partchunks)):\n",
    "    for j in range(len(audio_partchunks[i])):\n",
    "        chunks.append(audio_partchunks[i][j])\n",
    "\n",
    "len(chunks)\n",
    "    "
   ]
  },
  {
   "cell_type": "code",
   "execution_count": 17,
   "metadata": {},
   "outputs": [
    {
     "name": "stdout",
     "output_type": "stream",
     "text": [
      "11\n",
      "18\n",
      "18\n",
      "15\n",
      "15\n",
      "10\n",
      "15\n",
      "15\n",
      "14\n",
      "12\n",
      "17\n",
      "15\n",
      "15\n",
      "14\n",
      "12\n",
      "17\n",
      "10\n",
      "15\n",
      "19\n",
      "16\n",
      "9\n",
      "14\n",
      "14\n",
      "14\n",
      "14\n",
      "13\n",
      "15\n",
      "11\n",
      "14\n",
      "12\n",
      "10\n",
      "9\n",
      "12\n",
      "14\n",
      "12\n",
      "12\n",
      "13\n",
      "11\n",
      "13\n",
      "14\n"
     ]
    }
   ],
   "source": [
    "for i in range(len(audio_partchunks)):\n",
    "    print(len(audio_partchunks[i]))"
   ]
  },
  {
   "cell_type": "code",
   "execution_count": 25,
   "metadata": {},
   "outputs": [
    {
     "data": {
      "text/plain": [
       "1200000"
      ]
     },
     "execution_count": 25,
     "metadata": {},
     "output_type": "execute_result"
    }
   ],
   "source": [
    "len(chunks[1])"
   ]
  },
  {
   "cell_type": "code",
   "execution_count": 27,
   "metadata": {},
   "outputs": [],
   "source": [
    "import scipy.io as sio\n",
    "\n",
    "\n",
    "#label = 'm1'\n",
    "\n",
    "chunks_dict = {'m1':chunks[0:300],'m2':chunks[300:543]}\n",
    "#chunks_dict = {header[i]:chunks[i] for i in range(len(header))}\n",
    "\n",
    "sio.savemat('audio_chunks.mat',chunks_dict)\n"
   ]
  },
  {
   "cell_type": "code",
   "execution_count": null,
   "metadata": {},
   "outputs": [],
   "source": [
    "#chunks_dict\n"
   ]
  },
  {
   "cell_type": "code",
   "execution_count": 144,
   "metadata": {},
   "outputs": [],
   "source": [
    "def allanfactor(fin,numint):\n",
    "    af = np.zeros(numint)    #very small intervals lead to FF = 1, large intervals can lead to FF > 1\n",
    "    mean = np.sum(fin)/numint\n",
    "    \n",
    "    #get length of each interval\n",
    "    inte = int(np.floor(len(fin)/numint))\n",
    "    #get variance\n",
    "    tot = 0\n",
    "    for i in range(numint-1):\n",
    "        #(i-1)\n",
    "        tot = tot + np.sum(fin[(i*inte):(i+1)*inte])  -  np.sum(fin[((i-1)*inte) + 1:(i*inte)] )**2\n",
    "        af[i] = (tot/i)/(2*mean)\n",
    "    \n",
    "    allan = af[numint-1]\n",
    "    return allan\n",
    "                     "
   ]
  },
  {
   "cell_type": "code",
   "execution_count": 145,
   "metadata": {},
   "outputs": [],
   "source": [
    "def af_analysis(fin,start,powers,binwidth):\n",
    "    base = 2\n",
    "    allan1 = np.zeros(len(range(start,powers+1)))\n",
    "    count = 0\n",
    "    abcissa = np.array([])\n",
    "    actual = np.array([])\n",
    "    abcis = np.array([])\n",
    "    for i in range(start,powers+1):\n",
    "        abcissa = np.append(abcissa,base**i)\n",
    "        allan1[count] = allanfactor(fin, base**i)\n",
    "        count = count + 1\n",
    "        \n",
    "    length = len(abcissa)-1\n",
    "    for i in range(length):\n",
    "        actual = np.append(actual,allan1[length - i])\n",
    "        abcis = np.append(abcis,(len(fin)*binwidth)/abcissa[length - i])\n",
    "        \n",
    "    return actual,abcis"
   ]
  },
  {
   "cell_type": "code",
   "execution_count": null,
   "metadata": {},
   "outputs": [],
   "source": []
  },
  {
   "cell_type": "code",
   "execution_count": 146,
   "metadata": {},
   "outputs": [],
   "source": [
    "def run_af(w, samp_rate):\n",
    "    minpd = 2.5 #minimal distance between peaks, in ms\n",
    "    nmin = 4 #number of minutes per AF analysis standard (4)\n",
    "    ppeak = 0.005 #proportion of Hilbert envelope peaks extracted\n",
    "    emin = 4 #1/2^emin number of largest window partitions standard (4)\n",
    "    emax = 14 #1/2^emax number of smallest window partitions\n",
    "    nbin = 11 #number of log bins for IEI distribution and 1/f analysis   \n",
    "    sr = samp_rate\n",
    "    \n",
    "    ws = (sr*60)*nmin #window size is set by the total number of minutes per AF analysis in secods times sample rate\n",
    "    plen = math.floor(sr/1000*minpd) \n",
    "    N = math.ceil(len(w)/ws)\n",
    "    \n",
    "    for i in range(N):\n",
    "        if i == 0:\n",
    "            cw = w[i*ws:ws]\n",
    "        else:\n",
    "            cw = w[i*ws:ws*(i+1)]\n",
    "            \n",
    "        print('compute envelope',i, 'of', N,'...')\n",
    "        env = np.abs(signal.hilbert(cw))\n",
    "        \n",
    "        print('find peaks...')\n",
    "        n = ws-plen+1\n",
    "        \n",
    "        for j in range(n):\n",
    "            y = max(env[j:j+plen])\n",
    "            idx = np.argmax(env[j:j+plen])\n",
    "            env[j:j+plen] = 0\n",
    "            env[j+idx] = y\n",
    "            \n",
    "        envs = np.sort(env[env>0])[::-1]\n",
    "        cmax = envs[math.floor(ws*ppeak)]\n",
    "        pp = env>cmax\n",
    "        pp.astype(int)\n",
    "        #ppidx = np.argwhere(pp==True)##optional for iei measurements\n",
    "        #iei = ppidx[2:end]-ppidx[1:end-1]\n",
    "        \n",
    "        print('run Allan Factors...')\n",
    "        my_ay = np.array([])\n",
    "        my_ax = np.array([])\n",
    "        output = af_analysis(pp,emin,emax,1/sr) \n",
    "        my_ay = np.append(my_ay,output[1])\n",
    "        my_ax = np.append(my_ax,output[0])\n",
    "        print(output)\n",
    "        \n",
    "    if N > 1:\n",
    "        my_ax = np.mean(my_ax) \n",
    "        my_ay = np.mean(my_ay)\n",
    "        \n",
    "    return my_ax,my_ay\n",
    "    "
   ]
  },
  {
   "cell_type": "code",
   "execution_count": 147,
   "metadata": {},
   "outputs": [
    {
     "name": "stdout",
     "output_type": "stream",
     "text": [
      "compute envelope 0 of 1 ...\n",
      "find peaks...\n",
      "run Allan Factors...\n"
     ]
    },
    {
     "name": "stderr",
     "output_type": "stream",
     "text": [
      "C:\\Users\\cogmech\\Anaconda3\\lib\\site-packages\\ipykernel_launcher.py:12: RuntimeWarning: divide by zero encountered in long_scalars\n",
      "  if sys.path[0] == '':\n",
      "C:\\Users\\cogmech\\Anaconda3\\lib\\site-packages\\ipykernel_launcher.py:12: RuntimeWarning: invalid value encountered in long_scalars\n",
      "  if sys.path[0] == '':\n"
     ]
    },
    {
     "ename": "IndexError",
     "evalue": "index 11 is out of bounds for axis 0 with size 11",
     "output_type": "error",
     "traceback": [
      "\u001b[1;31m---------------------------------------------------------------------------\u001b[0m",
      "\u001b[1;31mIndexError\u001b[0m                                Traceback (most recent call last)",
      "\u001b[1;32m<ipython-input-147-3f3732f4cc75>\u001b[0m in \u001b[0;36m<module>\u001b[1;34m\u001b[0m\n\u001b[1;32m----> 1\u001b[1;33m \u001b[0max\u001b[0m\u001b[1;33m,\u001b[0m\u001b[0may\u001b[0m \u001b[1;33m=\u001b[0m \u001b[0mrun_af\u001b[0m\u001b[1;33m(\u001b[0m\u001b[0maudio_partchunks\u001b[0m\u001b[1;33m[\u001b[0m\u001b[1;36m0\u001b[0m\u001b[1;33m]\u001b[0m\u001b[1;33m[\u001b[0m\u001b[1;36m0\u001b[0m\u001b[1;33m]\u001b[0m\u001b[1;33m,\u001b[0m\u001b[0mnew_sr\u001b[0m\u001b[1;33m)\u001b[0m\u001b[1;33m\u001b[0m\u001b[1;33m\u001b[0m\u001b[0m\n\u001b[0m",
      "\u001b[1;32m<ipython-input-146-2f31c896d8e5>\u001b[0m in \u001b[0;36mrun_af\u001b[1;34m(w, samp_rate)\u001b[0m\n\u001b[0;32m     40\u001b[0m         \u001b[0mmy_ay\u001b[0m \u001b[1;33m=\u001b[0m \u001b[0mnp\u001b[0m\u001b[1;33m.\u001b[0m\u001b[0marray\u001b[0m\u001b[1;33m(\u001b[0m\u001b[1;33m[\u001b[0m\u001b[1;33m]\u001b[0m\u001b[1;33m)\u001b[0m\u001b[1;33m\u001b[0m\u001b[1;33m\u001b[0m\u001b[0m\n\u001b[0;32m     41\u001b[0m         \u001b[0mmy_ax\u001b[0m \u001b[1;33m=\u001b[0m \u001b[0mnp\u001b[0m\u001b[1;33m.\u001b[0m\u001b[0marray\u001b[0m\u001b[1;33m(\u001b[0m\u001b[1;33m[\u001b[0m\u001b[1;33m]\u001b[0m\u001b[1;33m)\u001b[0m\u001b[1;33m\u001b[0m\u001b[1;33m\u001b[0m\u001b[0m\n\u001b[1;32m---> 42\u001b[1;33m         \u001b[0moutput\u001b[0m \u001b[1;33m=\u001b[0m \u001b[0maf_analysis\u001b[0m\u001b[1;33m(\u001b[0m\u001b[0mpp\u001b[0m\u001b[1;33m,\u001b[0m\u001b[0memin\u001b[0m\u001b[1;33m,\u001b[0m\u001b[0memax\u001b[0m\u001b[1;33m,\u001b[0m\u001b[1;36m1\u001b[0m\u001b[1;33m/\u001b[0m\u001b[0msr\u001b[0m\u001b[1;33m)\u001b[0m\u001b[1;33m\u001b[0m\u001b[1;33m\u001b[0m\u001b[0m\n\u001b[0m\u001b[0;32m     43\u001b[0m         \u001b[0mmy_ay\u001b[0m \u001b[1;33m=\u001b[0m \u001b[0mnp\u001b[0m\u001b[1;33m.\u001b[0m\u001b[0mappend\u001b[0m\u001b[1;33m(\u001b[0m\u001b[0mmy_ay\u001b[0m\u001b[1;33m,\u001b[0m\u001b[0moutput\u001b[0m\u001b[1;33m[\u001b[0m\u001b[1;36m1\u001b[0m\u001b[1;33m]\u001b[0m\u001b[1;33m)\u001b[0m\u001b[1;33m\u001b[0m\u001b[1;33m\u001b[0m\u001b[0m\n\u001b[0;32m     44\u001b[0m         \u001b[0mmy_ax\u001b[0m \u001b[1;33m=\u001b[0m \u001b[0mnp\u001b[0m\u001b[1;33m.\u001b[0m\u001b[0mappend\u001b[0m\u001b[1;33m(\u001b[0m\u001b[0mmy_ax\u001b[0m\u001b[1;33m,\u001b[0m\u001b[0moutput\u001b[0m\u001b[1;33m[\u001b[0m\u001b[1;36m0\u001b[0m\u001b[1;33m]\u001b[0m\u001b[1;33m)\u001b[0m\u001b[1;33m\u001b[0m\u001b[1;33m\u001b[0m\u001b[0m\n",
      "\u001b[1;32m<ipython-input-145-95948cd0767a>\u001b[0m in \u001b[0;36maf_analysis\u001b[1;34m(fin, start, powers, binwidth)\u001b[0m\n\u001b[0;32m     14\u001b[0m     \u001b[1;32mfor\u001b[0m \u001b[0mi\u001b[0m \u001b[1;32min\u001b[0m \u001b[0mrange\u001b[0m\u001b[1;33m(\u001b[0m\u001b[0mlength\u001b[0m\u001b[1;33m)\u001b[0m\u001b[1;33m:\u001b[0m\u001b[1;33m\u001b[0m\u001b[1;33m\u001b[0m\u001b[0m\n\u001b[0;32m     15\u001b[0m         \u001b[0mactual\u001b[0m \u001b[1;33m=\u001b[0m \u001b[0mnp\u001b[0m\u001b[1;33m.\u001b[0m\u001b[0mappend\u001b[0m\u001b[1;33m(\u001b[0m\u001b[0mactual\u001b[0m\u001b[1;33m,\u001b[0m\u001b[0mallan1\u001b[0m\u001b[1;33m[\u001b[0m\u001b[0mlength\u001b[0m \u001b[1;33m-\u001b[0m \u001b[0mi\u001b[0m\u001b[1;33m]\u001b[0m\u001b[1;33m)\u001b[0m\u001b[1;33m\u001b[0m\u001b[1;33m\u001b[0m\u001b[0m\n\u001b[1;32m---> 16\u001b[1;33m         \u001b[0mabcis\u001b[0m \u001b[1;33m=\u001b[0m \u001b[0mnp\u001b[0m\u001b[1;33m.\u001b[0m\u001b[0mappend\u001b[0m\u001b[1;33m(\u001b[0m\u001b[0mabcis\u001b[0m\u001b[1;33m,\u001b[0m\u001b[1;33m(\u001b[0m\u001b[0mlen\u001b[0m\u001b[1;33m(\u001b[0m\u001b[0mfin\u001b[0m\u001b[1;33m)\u001b[0m\u001b[1;33m*\u001b[0m\u001b[0mbinwidth\u001b[0m\u001b[1;33m)\u001b[0m\u001b[1;33m/\u001b[0m\u001b[0mabcissa\u001b[0m\u001b[1;33m[\u001b[0m\u001b[1;33m(\u001b[0m\u001b[0mlength\u001b[0m \u001b[1;33m-\u001b[0m \u001b[0mi\u001b[0m\u001b[1;33m)\u001b[0m\u001b[1;33m+\u001b[0m\u001b[1;36m1\u001b[0m\u001b[1;33m]\u001b[0m\u001b[1;33m)\u001b[0m\u001b[1;33m\u001b[0m\u001b[1;33m\u001b[0m\u001b[0m\n\u001b[0m\u001b[0;32m     17\u001b[0m \u001b[1;33m\u001b[0m\u001b[0m\n\u001b[0;32m     18\u001b[0m     \u001b[1;32mreturn\u001b[0m \u001b[0mactual\u001b[0m\u001b[1;33m,\u001b[0m\u001b[0mabcis\u001b[0m\u001b[1;33m\u001b[0m\u001b[1;33m\u001b[0m\u001b[0m\n",
      "\u001b[1;31mIndexError\u001b[0m: index 11 is out of bounds for axis 0 with size 11"
     ]
    }
   ],
   "source": [
    "ax,ay = run_af(audio_partchunks[0][0],new_sr)"
   ]
  },
  {
   "cell_type": "code",
   "execution_count": 143,
   "metadata": {},
   "outputs": [
    {
     "name": "stderr",
     "output_type": "stream",
     "text": [
      "C:\\Users\\cogmech\\Anaconda3\\lib\\site-packages\\ipykernel_launcher.py:1: RuntimeWarning: divide by zero encountered in log\n",
      "  \"\"\"Entry point for launching an IPython kernel.\n"
     ]
    },
    {
     "data": {
      "text/plain": [
       "[<matplotlib.lines.Line2D at 0x1a7003497f0>]"
      ]
     },
     "execution_count": 143,
     "metadata": {},
     "output_type": "execute_result"
    },
    {
     "data": {
      "image/png": "[encoded data removed]",
      "text/plain": [
       "<Figure size 432x288 with 1 Axes>"
      ]
     },
     "metadata": {
      "needs_background": "light"
     },
     "output_type": "display_data"
    }
   ],
   "source": [
    "plt.plot(np.log(range(len(ax))),np.log(ay))"
   ]
  },
  {
   "cell_type": "code",
   "execution_count": null,
   "metadata": {},
   "outputs": [],
   "source": []
  },
  {
   "cell_type": "code",
   "execution_count": null,
   "metadata": {},
   "outputs": [],
   "source": []
  },
  {
   "cell_type": "code",
   "execution_count": null,
   "metadata": {},
   "outputs": [],
   "source": []
  },
  {
   "cell_type": "code",
   "execution_count": null,
   "metadata": {},
   "outputs": [],
   "source": []
  }
 ],
 "metadata": {
  "kernelspec": {
   "display_name": "Python 3",
   "language": "python",
   "name": "python3"
  },
  "language_info": {
   "codemirror_mode": {
    "name": "ipython",
    "version": 3
   },
   "file_extension": ".py",
   "mimetype": "text/x-python",
   "name": "python",
   "nbconvert_exporter": "python",
   "pygments_lexer": "ipython3",
   "version": "3.7.1"
  }
 },
 "nbformat": 4,
 "nbformat_minor": 2
}
